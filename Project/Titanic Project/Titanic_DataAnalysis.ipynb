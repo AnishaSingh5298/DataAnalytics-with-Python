{
 "cells": [
  {
   "cell_type": "code",
   "execution_count": 1,
   "id": "02400f44",
   "metadata": {},
   "outputs": [],
   "source": [
    "import pandas as pd\n",
    "import numpy as np"
   ]
  },
  {
   "cell_type": "code",
   "execution_count": 2,
   "id": "5f6fb662",
   "metadata": {},
   "outputs": [
    {
     "data": {
      "text/html": [
       "<div>\n",
       "<style scoped>\n",
       "    .dataframe tbody tr th:only-of-type {\n",
       "        vertical-align: middle;\n",
       "    }\n",
       "\n",
       "    .dataframe tbody tr th {\n",
       "        vertical-align: top;\n",
       "    }\n",
       "\n",
       "    .dataframe thead th {\n",
       "        text-align: right;\n",
       "    }\n",
       "</style>\n",
       "<table border=\"1\" class=\"dataframe\">\n",
       "  <thead>\n",
       "    <tr style=\"text-align: right;\">\n",
       "      <th></th>\n",
       "      <th>PassengerId</th>\n",
       "      <th>Survived</th>\n",
       "      <th>Pclass</th>\n",
       "      <th>Name</th>\n",
       "      <th>Sex</th>\n",
       "      <th>Age</th>\n",
       "      <th>SibSp</th>\n",
       "      <th>Parch</th>\n",
       "      <th>Ticket</th>\n",
       "      <th>Fare</th>\n",
       "      <th>Cabin</th>\n",
       "      <th>Embarked</th>\n",
       "    </tr>\n",
       "  </thead>\n",
       "  <tbody>\n",
       "    <tr>\n",
       "      <th>0</th>\n",
       "      <td>1</td>\n",
       "      <td>0</td>\n",
       "      <td>3</td>\n",
       "      <td>Braund, Mr. Owen Harris</td>\n",
       "      <td>male</td>\n",
       "      <td>22.0</td>\n",
       "      <td>1</td>\n",
       "      <td>0</td>\n",
       "      <td>A/5 21171</td>\n",
       "      <td>7.2500</td>\n",
       "      <td>NaN</td>\n",
       "      <td>S</td>\n",
       "    </tr>\n",
       "    <tr>\n",
       "      <th>1</th>\n",
       "      <td>2</td>\n",
       "      <td>1</td>\n",
       "      <td>1</td>\n",
       "      <td>Cumings, Mrs. John Bradley (Florence Briggs Th...</td>\n",
       "      <td>female</td>\n",
       "      <td>38.0</td>\n",
       "      <td>1</td>\n",
       "      <td>0</td>\n",
       "      <td>PC 17599</td>\n",
       "      <td>71.2833</td>\n",
       "      <td>C85</td>\n",
       "      <td>C</td>\n",
       "    </tr>\n",
       "    <tr>\n",
       "      <th>2</th>\n",
       "      <td>3</td>\n",
       "      <td>1</td>\n",
       "      <td>3</td>\n",
       "      <td>Heikkinen, Miss. Laina</td>\n",
       "      <td>female</td>\n",
       "      <td>26.0</td>\n",
       "      <td>0</td>\n",
       "      <td>0</td>\n",
       "      <td>STON/O2. 3101282</td>\n",
       "      <td>7.9250</td>\n",
       "      <td>NaN</td>\n",
       "      <td>S</td>\n",
       "    </tr>\n",
       "    <tr>\n",
       "      <th>3</th>\n",
       "      <td>4</td>\n",
       "      <td>1</td>\n",
       "      <td>1</td>\n",
       "      <td>Futrelle, Mrs. Jacques Heath (Lily May Peel)</td>\n",
       "      <td>female</td>\n",
       "      <td>35.0</td>\n",
       "      <td>1</td>\n",
       "      <td>0</td>\n",
       "      <td>113803</td>\n",
       "      <td>53.1000</td>\n",
       "      <td>C123</td>\n",
       "      <td>S</td>\n",
       "    </tr>\n",
       "    <tr>\n",
       "      <th>4</th>\n",
       "      <td>5</td>\n",
       "      <td>0</td>\n",
       "      <td>3</td>\n",
       "      <td>Allen, Mr. William Henry</td>\n",
       "      <td>male</td>\n",
       "      <td>35.0</td>\n",
       "      <td>0</td>\n",
       "      <td>0</td>\n",
       "      <td>373450</td>\n",
       "      <td>8.0500</td>\n",
       "      <td>NaN</td>\n",
       "      <td>S</td>\n",
       "    </tr>\n",
       "    <tr>\n",
       "      <th>...</th>\n",
       "      <td>...</td>\n",
       "      <td>...</td>\n",
       "      <td>...</td>\n",
       "      <td>...</td>\n",
       "      <td>...</td>\n",
       "      <td>...</td>\n",
       "      <td>...</td>\n",
       "      <td>...</td>\n",
       "      <td>...</td>\n",
       "      <td>...</td>\n",
       "      <td>...</td>\n",
       "      <td>...</td>\n",
       "    </tr>\n",
       "    <tr>\n",
       "      <th>886</th>\n",
       "      <td>887</td>\n",
       "      <td>0</td>\n",
       "      <td>2</td>\n",
       "      <td>Montvila, Rev. Juozas</td>\n",
       "      <td>male</td>\n",
       "      <td>27.0</td>\n",
       "      <td>0</td>\n",
       "      <td>0</td>\n",
       "      <td>211536</td>\n",
       "      <td>13.0000</td>\n",
       "      <td>NaN</td>\n",
       "      <td>S</td>\n",
       "    </tr>\n",
       "    <tr>\n",
       "      <th>887</th>\n",
       "      <td>888</td>\n",
       "      <td>1</td>\n",
       "      <td>1</td>\n",
       "      <td>Graham, Miss. Margaret Edith</td>\n",
       "      <td>female</td>\n",
       "      <td>19.0</td>\n",
       "      <td>0</td>\n",
       "      <td>0</td>\n",
       "      <td>112053</td>\n",
       "      <td>30.0000</td>\n",
       "      <td>B42</td>\n",
       "      <td>S</td>\n",
       "    </tr>\n",
       "    <tr>\n",
       "      <th>888</th>\n",
       "      <td>889</td>\n",
       "      <td>0</td>\n",
       "      <td>3</td>\n",
       "      <td>Johnston, Miss. Catherine Helen \"Carrie\"</td>\n",
       "      <td>female</td>\n",
       "      <td>NaN</td>\n",
       "      <td>1</td>\n",
       "      <td>2</td>\n",
       "      <td>W./C. 6607</td>\n",
       "      <td>23.4500</td>\n",
       "      <td>NaN</td>\n",
       "      <td>S</td>\n",
       "    </tr>\n",
       "    <tr>\n",
       "      <th>889</th>\n",
       "      <td>890</td>\n",
       "      <td>1</td>\n",
       "      <td>1</td>\n",
       "      <td>Behr, Mr. Karl Howell</td>\n",
       "      <td>male</td>\n",
       "      <td>26.0</td>\n",
       "      <td>0</td>\n",
       "      <td>0</td>\n",
       "      <td>111369</td>\n",
       "      <td>30.0000</td>\n",
       "      <td>C148</td>\n",
       "      <td>C</td>\n",
       "    </tr>\n",
       "    <tr>\n",
       "      <th>890</th>\n",
       "      <td>891</td>\n",
       "      <td>0</td>\n",
       "      <td>3</td>\n",
       "      <td>Dooley, Mr. Patrick</td>\n",
       "      <td>male</td>\n",
       "      <td>32.0</td>\n",
       "      <td>0</td>\n",
       "      <td>0</td>\n",
       "      <td>370376</td>\n",
       "      <td>7.7500</td>\n",
       "      <td>NaN</td>\n",
       "      <td>Q</td>\n",
       "    </tr>\n",
       "  </tbody>\n",
       "</table>\n",
       "<p>891 rows × 12 columns</p>\n",
       "</div>"
      ],
      "text/plain": [
       "     PassengerId  Survived  Pclass  \\\n",
       "0              1         0       3   \n",
       "1              2         1       1   \n",
       "2              3         1       3   \n",
       "3              4         1       1   \n",
       "4              5         0       3   \n",
       "..           ...       ...     ...   \n",
       "886          887         0       2   \n",
       "887          888         1       1   \n",
       "888          889         0       3   \n",
       "889          890         1       1   \n",
       "890          891         0       3   \n",
       "\n",
       "                                                  Name     Sex   Age  SibSp  \\\n",
       "0                              Braund, Mr. Owen Harris    male  22.0      1   \n",
       "1    Cumings, Mrs. John Bradley (Florence Briggs Th...  female  38.0      1   \n",
       "2                               Heikkinen, Miss. Laina  female  26.0      0   \n",
       "3         Futrelle, Mrs. Jacques Heath (Lily May Peel)  female  35.0      1   \n",
       "4                             Allen, Mr. William Henry    male  35.0      0   \n",
       "..                                                 ...     ...   ...    ...   \n",
       "886                              Montvila, Rev. Juozas    male  27.0      0   \n",
       "887                       Graham, Miss. Margaret Edith  female  19.0      0   \n",
       "888           Johnston, Miss. Catherine Helen \"Carrie\"  female   NaN      1   \n",
       "889                              Behr, Mr. Karl Howell    male  26.0      0   \n",
       "890                                Dooley, Mr. Patrick    male  32.0      0   \n",
       "\n",
       "     Parch            Ticket     Fare Cabin Embarked  \n",
       "0        0         A/5 21171   7.2500   NaN        S  \n",
       "1        0          PC 17599  71.2833   C85        C  \n",
       "2        0  STON/O2. 3101282   7.9250   NaN        S  \n",
       "3        0            113803  53.1000  C123        S  \n",
       "4        0            373450   8.0500   NaN        S  \n",
       "..     ...               ...      ...   ...      ...  \n",
       "886      0            211536  13.0000   NaN        S  \n",
       "887      0            112053  30.0000   B42        S  \n",
       "888      2        W./C. 6607  23.4500   NaN        S  \n",
       "889      0            111369  30.0000  C148        C  \n",
       "890      0            370376   7.7500   NaN        Q  \n",
       "\n",
       "[891 rows x 12 columns]"
      ]
     },
     "execution_count": 2,
     "metadata": {},
     "output_type": "execute_result"
    }
   ],
   "source": [
    "df1=pd.read_csv(\"titanic_data.csv\")\n",
    "df1"
   ]
  },
  {
   "cell_type": "code",
   "execution_count": 3,
   "id": "8d5195fa",
   "metadata": {},
   "outputs": [
    {
     "name": "stdout",
     "output_type": "stream",
     "text": [
      "<class 'pandas.core.frame.DataFrame'>\n",
      "RangeIndex: 891 entries, 0 to 890\n",
      "Data columns (total 12 columns):\n",
      " #   Column       Non-Null Count  Dtype  \n",
      "---  ------       --------------  -----  \n",
      " 0   PassengerId  891 non-null    int64  \n",
      " 1   Survived     891 non-null    int64  \n",
      " 2   Pclass       891 non-null    int64  \n",
      " 3   Name         891 non-null    object \n",
      " 4   Sex          891 non-null    object \n",
      " 5   Age          714 non-null    float64\n",
      " 6   SibSp        891 non-null    int64  \n",
      " 7   Parch        891 non-null    int64  \n",
      " 8   Ticket       891 non-null    object \n",
      " 9   Fare         891 non-null    float64\n",
      " 10  Cabin        204 non-null    object \n",
      " 11  Embarked     889 non-null    object \n",
      "dtypes: float64(2), int64(5), object(5)\n",
      "memory usage: 83.7+ KB\n"
     ]
    }
   ],
   "source": [
    "df1.info()"
   ]
  },
  {
   "cell_type": "code",
   "execution_count": 4,
   "id": "bd0b2357",
   "metadata": {},
   "outputs": [
    {
     "data": {
      "text/plain": [
       "(891, 12)"
      ]
     },
     "execution_count": 4,
     "metadata": {},
     "output_type": "execute_result"
    }
   ],
   "source": [
    "df1.shape"
   ]
  },
  {
   "cell_type": "code",
   "execution_count": 5,
   "id": "797c2d9f",
   "metadata": {},
   "outputs": [
    {
     "data": {
      "text/plain": [
       "PassengerId      0\n",
       "Survived         0\n",
       "Pclass           0\n",
       "Name             0\n",
       "Sex              0\n",
       "Age            177\n",
       "SibSp            0\n",
       "Parch            0\n",
       "Ticket           0\n",
       "Fare             0\n",
       "Cabin          687\n",
       "Embarked         2\n",
       "dtype: int64"
      ]
     },
     "execution_count": 5,
     "metadata": {},
     "output_type": "execute_result"
    }
   ],
   "source": [
    "df1.isnull().sum()                     #no. of nan fields in each column"
   ]
  },
  {
   "cell_type": "code",
   "execution_count": 6,
   "id": "bfe323b5",
   "metadata": {},
   "outputs": [],
   "source": [
    "import matplotlib.pyplot as plt\n",
    "%matplotlib inline\n",
    "import seaborn as sns"
   ]
  },
  {
   "cell_type": "code",
   "execution_count": 7,
   "id": "b5db12af",
   "metadata": {},
   "outputs": [],
   "source": [
    "def bar_chart(feature):\n",
    "    survived = df1[df1['Survived']==1][feature].value_counts()\n",
    "    dead = df1[df1['Survived']==0][feature].value_counts()\n",
    "    df = pd.DataFrame([survived,dead])\n",
    "    df.index = ['Survived', 'Dead']\n",
    "    df.plot(kind='bar',stacked=True, figsize=(10,5))"
   ]
  },
  {
   "cell_type": "code",
   "execution_count": 8,
   "id": "0d7830d1",
   "metadata": {},
   "outputs": [
    {
     "data": {
      "image/png": "[encoded data removed]",
      "text/plain": [
       "<Figure size 720x360 with 1 Axes>"
      ]
     },
     "metadata": {
      "needs_background": "light"
     },
     "output_type": "display_data"
    }
   ],
   "source": [
    "bar_chart('Sex')"
   ]
  },
  {
   "cell_type": "markdown",
   "id": "92850235",
   "metadata": {},
   "source": [
    "The above bar chart shows that Women survived more than Men"
   ]
  },
  {
   "cell_type": "code",
   "execution_count": 9,
   "id": "53955058",
   "metadata": {},
   "outputs": [
    {
     "data": {
      "image/png": "[encoded data removed]",
      "text/plain": [
       "<Figure size 720x360 with 1 Axes>"
      ]
     },
     "metadata": {
      "needs_background": "light"
     },
     "output_type": "display_data"
    }
   ],
   "source": [
    "bar_chart('Pclass')"
   ]
  },
  {
   "cell_type": "markdown",
   "id": "a5de82a1",
   "metadata": {},
   "source": [
    "This chart shows that 1st class more likely survived than other classes and 3rd class more likely died than other classes"
   ]
  },
  {
   "cell_type": "code",
   "execution_count": 10,
   "id": "da0961e3",
   "metadata": {},
   "outputs": [
    {
     "data": {
      "image/png": "[encoded data removed]",
      "text/plain": [
       "<Figure size 720x360 with 1 Axes>"
      ]
     },
     "metadata": {
      "needs_background": "light"
     },
     "output_type": "display_data"
    }
   ],
   "source": [
    "bar_chart('SibSp')"
   ]
  },
  {
   "cell_type": "markdown",
   "id": "d86bee05",
   "metadata": {},
   "source": [
    "The above chart depicts that a person who aboarded with more than 2 SibSp more likely survived and a person who aboarded without SibSp more likely died."
   ]
  },
  {
   "cell_type": "code",
   "execution_count": 11,
   "id": "1a8d0efc",
   "metadata": {},
   "outputs": [
    {
     "data": {
      "image/png": "[encoded data removed]",
      "text/plain": [
       "<Figure size 720x360 with 1 Axes>"
      ]
     },
     "metadata": {
      "needs_background": "light"
     },
     "output_type": "display_data"
    }
   ],
   "source": [
    "bar_chart('Parch')"
   ]
  },
  {
   "cell_type": "markdown",
   "id": "84ed92e5",
   "metadata": {},
   "source": [
    "The above chart shows that a person who aboarded with more than 2 Parch more likely survived and a person who aboarded alone more likely died."
   ]
  },
  {
   "cell_type": "code",
   "execution_count": 12,
   "id": "31e48f51",
   "metadata": {},
   "outputs": [
    {
     "data": {
      "text/plain": [
       "(0.42, 80.0)"
      ]
     },
     "execution_count": 12,
     "metadata": {},
     "output_type": "execute_result"
    }
   ],
   "source": [
    "df1['Age'].min(), df1['Age'].max()"
   ]
  },
  {
   "cell_type": "markdown",
   "id": "826d7eec",
   "metadata": {},
   "source": [
    "#### 1 -> Survived\n",
    "\n",
    "#### 0 -> Died"
   ]
  },
  {
   "cell_type": "markdown",
   "id": "bd91e8a8",
   "metadata": {},
   "source": [
    "### Percentage of Deaths"
   ]
  },
  {
   "cell_type": "markdown",
   "id": "26c71521",
   "metadata": {},
   "source": [
    "COUNT"
   ]
  },
  {
   "cell_type": "code",
   "execution_count": 13,
   "id": "baf8eff8",
   "metadata": {},
   "outputs": [
    {
     "data": {
      "text/plain": [
       "0    549\n",
       "1    342\n",
       "Name: Survived, dtype: int64"
      ]
     },
     "execution_count": 13,
     "metadata": {},
     "output_type": "execute_result"
    }
   ],
   "source": [
    "df1['Survived'].value_counts()"
   ]
  },
  {
   "cell_type": "code",
   "execution_count": 14,
   "id": "8f74cdd0",
   "metadata": {},
   "outputs": [
    {
     "data": {
      "text/plain": [
       "549"
      ]
     },
     "execution_count": 14,
     "metadata": {},
     "output_type": "execute_result"
    }
   ],
   "source": [
    "TotalDeaths=df1['Survived'][(df1.Survived==0)].count()\n",
    "TotalDeaths"
   ]
  },
  {
   "cell_type": "markdown",
   "id": "b8590773",
   "metadata": {},
   "source": [
    "PERCENTAGE"
   ]
  },
  {
   "cell_type": "code",
   "execution_count": 15,
   "id": "22624c96",
   "metadata": {},
   "outputs": [
    {
     "data": {
      "text/plain": [
       "61.61616161616162"
      ]
     },
     "execution_count": 15,
     "metadata": {},
     "output_type": "execute_result"
    }
   ],
   "source": [
    "TotalDeaths * 100/len(df1)"
   ]
  },
  {
   "cell_type": "markdown",
   "id": "eeaf2875",
   "metadata": {},
   "source": [
    "GRAPH"
   ]
  },
  {
   "cell_type": "code",
   "execution_count": 16,
   "id": "189d16e4",
   "metadata": {},
   "outputs": [
    {
     "data": {
      "image/png": "[encoded data removed]",
      "text/plain": [
       "<Figure size 432x288 with 1 Axes>"
      ]
     },
     "metadata": {
      "needs_background": "light"
     },
     "output_type": "display_data"
    }
   ],
   "source": [
    "df1['Survived'].value_counts().plot(kind='bar');"
   ]
  },
  {
   "cell_type": "markdown",
   "id": "65926503",
   "metadata": {},
   "source": [
    "The above graph and percentage data shows that 61.616162% people did not survived"
   ]
  },
  {
   "cell_type": "markdown",
   "id": "ca73e193",
   "metadata": {},
   "source": [
    "### Gender wise Death Percentage"
   ]
  },
  {
   "cell_type": "code",
   "execution_count": 17,
   "id": "49833b5d",
   "metadata": {},
   "outputs": [],
   "source": [
    "maleDeath=df1['Survived'][(df1.Sex=='male')&(df1.Survived==0)].count()\n",
    "femaleDeath=df1['Survived'][(df1.Sex=='female')&(df1.Survived==0)].count()"
   ]
  },
  {
   "cell_type": "code",
   "execution_count": 18,
   "id": "3395557c",
   "metadata": {},
   "outputs": [
    {
     "name": "stdout",
     "output_type": "stream",
     "text": [
      "Male Death Percent:  85.24590163934425\n",
      "Female Death Percent:  14.754098360655737\n"
     ]
    }
   ],
   "source": [
    "maleDeathpercent=(maleDeath/TotalDeaths)*100\n",
    "femaleDeathpercent=(femaleDeath/TotalDeaths)*100\n",
    "print(\"Male Death Percent: \",maleDeathpercent)\n",
    "print(\"Female Death Percent: \",femaleDeathpercent)"
   ]
  },
  {
   "cell_type": "code",
   "execution_count": 19,
   "id": "2c9a79e2",
   "metadata": {},
   "outputs": [
    {
     "data": {
      "image/png": "[encoded data removed]",
      "text/plain": [
       "<Figure size 432x288 with 1 Axes>"
      ]
     },
     "metadata": {
      "needs_background": "light"
     },
     "output_type": "display_data"
    }
   ],
   "source": [
    "sns.countplot(x='Survived', hue='Sex', data=df1, palette='winter');"
   ]
  },
  {
   "cell_type": "markdown",
   "id": "8d493ed3",
   "metadata": {},
   "source": [
    "### Class wise Death Percentage"
   ]
  },
  {
   "cell_type": "code",
   "execution_count": 20,
   "id": "8ee6684f",
   "metadata": {},
   "outputs": [],
   "source": [
    "survivor_count = df1['Survived'].sum()\n",
    "\n",
    "def get_survival_rate(dataframe, factor):\n",
    "    by_factor = dataframe.groupby(factor)\n",
    "    count_by_factor = by_factor['Survived'].sum()\n",
    "    survival_rate = count_by_factor / survivor_count * 100\n",
    "    print('Survival rates:', survival_rate, '\\n \\n', 'Counts: ', count_by_factor)\n",
    "    return survival_rate, count_by_factor"
   ]
  },
  {
   "cell_type": "code",
   "execution_count": 21,
   "id": "661a5f54",
   "metadata": {},
   "outputs": [],
   "source": [
    "total_passenger_count = len(df1['Pclass'])\n",
    "first_class_count = (df1['Pclass'] == 1).sum()\n",
    "second_class_count = (df1['Pclass'] == 2).sum()\n",
    "third_class_count = (df1['Pclass'] == 3).sum()\n",
    "\n",
    "per_first_class =  first_class_count / total_passenger_count * 100\n",
    "per_second_class = second_class_count / total_passenger_count * 100\n",
    "per_third_class = third_class_count / total_passenger_count * 100"
   ]
  },
  {
   "cell_type": "code",
   "execution_count": 22,
   "id": "349d2aa4",
   "metadata": {},
   "outputs": [
    {
     "name": "stdout",
     "output_type": "stream",
     "text": [
      "First class percentage =  24.242424242424242  Count:  216\n",
      "Second class percentage =  20.65095398428732  Count:  184\n",
      "Third class percentage =  55.106621773288445  Count:  491\n"
     ]
    }
   ],
   "source": [
    "print('First class percentage = ', per_first_class, ' Count: ', first_class_count)\n",
    "print('Second class percentage = ', per_second_class, ' Count: ', second_class_count)\n",
    "print('Third class percentage = ', per_third_class, ' Count: ', third_class_count)"
   ]
  },
  {
   "cell_type": "code",
   "execution_count": 23,
   "id": "0f242416",
   "metadata": {},
   "outputs": [
    {
     "name": "stdout",
     "output_type": "stream",
     "text": [
      "Survival rates: Pclass\n",
      "1    39.766082\n",
      "2    25.438596\n",
      "3    34.795322\n",
      "Name: Survived, dtype: float64 \n",
      " \n",
      " Counts:  Pclass\n",
      "1    136\n",
      "2     87\n",
      "3    119\n",
      "Name: Survived, dtype: int64\n"
     ]
    },
    {
     "data": {
      "text/plain": [
       "(Pclass\n",
       " 1    39.766082\n",
       " 2    25.438596\n",
       " 3    34.795322\n",
       " Name: Survived, dtype: float64,\n",
       " Pclass\n",
       " 1    136\n",
       " 2     87\n",
       " 3    119\n",
       " Name: Survived, dtype: int64)"
      ]
     },
     "execution_count": 23,
     "metadata": {},
     "output_type": "execute_result"
    }
   ],
   "source": [
    "get_survival_rate(df1, 'Pclass')"
   ]
  },
  {
   "cell_type": "markdown",
   "id": "0eae4762",
   "metadata": {},
   "source": [
    "Conclusion from above data is as follows-:\n",
    "    \n",
    "    The first class represents ≈ 24% of the passengers, but ≈ 40% of the survivors\n",
    "    The second class represents ≈ 20% of the passengers, but ≈ 25% of the survivors\n",
    "    The third class representes ≈ 55% of the passengers, but ≈ 34% of the survivors\n"
   ]
  },
  {
   "cell_type": "code",
   "execution_count": 24,
   "id": "22f61123",
   "metadata": {},
   "outputs": [],
   "source": [
    "def get_counts(dataframe, factor, quality, status):\n",
    "    target = dataframe[factor].where(dataframe[factor] == quality)\n",
    "    class_count = target.where(dataframe['Survived'] == status).count()\n",
    "    return class_count"
   ]
  },
  {
   "cell_type": "code",
   "execution_count": 25,
   "id": "12ba564c",
   "metadata": {},
   "outputs": [],
   "source": [
    "class1_survival_count = get_counts(df1, 'Pclass', 1, 1)\n",
    "class2_survival_count = get_counts(df1, 'Pclass', 2, 1)\n",
    "class3_survival_count = get_counts(df1, 'Pclass', 3, 1)\n",
    "class1_death_count = get_counts(df1, 'Pclass', 1, 0)\n",
    "class2_death_count = get_counts(df1, 'Pclass', 2, 0)\n",
    "class3_death_count = get_counts(df1, 'Pclass', 3, 0)"
   ]
  },
  {
   "cell_type": "code",
   "execution_count": 26,
   "id": "bb67321b",
   "metadata": {},
   "outputs": [
    {
     "name": "stdout",
     "output_type": "stream",
     "text": [
      "SURVIVAL COUNT BY CLASS\n",
      "First class survival count: 136\n",
      "Second class survival count: 87\n",
      "Third class survival count: 119\n",
      "\n",
      "CASUALTIES COUNT BY CLASS\n",
      "First class death count: 80\n",
      "Second class death count: 97\n",
      "Third class death count: 372\n"
     ]
    }
   ],
   "source": [
    "print('SURVIVAL COUNT BY CLASS')\n",
    "print('First class survival count:', class1_survival_count)\n",
    "print('Second class survival count:', class2_survival_count)\n",
    "print('Third class survival count:', class3_survival_count)\n",
    "print('\\nCASUALTIES COUNT BY CLASS')\n",
    "print('First class death count:', class1_death_count)\n",
    "print('Second class death count:', class2_death_count)\n",
    "print('Third class death count:', class3_death_count)"
   ]
  },
  {
   "cell_type": "code",
   "execution_count": 27,
   "id": "bd2da62e",
   "metadata": {},
   "outputs": [],
   "source": [
    "def gen_plot(survival_array, death_array, by_factor, x_ticks):\n",
    "    abs_survival_list = np.array(survival_array)\n",
    "    abs_death_list = np.array(death_array)\n",
    "    N = len(abs_survival_list)\n",
    "    ind = np.arange(N)\n",
    "    width = 1 / N\n",
    "\n",
    "    f, (ax1, ax2) = plt.subplots(1, 2, figsize=(10,5))\n",
    "\n",
    "\n",
    "    # count\n",
    "    ax1.bar(ind, abs_survival_list, width, label='Survival', alpha=0.8)\n",
    "    ax1.bar(ind, abs_death_list, width, color='#d62728', label='Death', alpha=0.8, bottom=abs_survival_list)\n",
    "\n",
    "    plt.sca(ax1)\n",
    "    plt.xticks(ind, x_ticks)\n",
    "\n",
    "    ax1.set_title('Absolute count ' + by_factor)\n",
    "    ax1.set_ylabel('Count')\n",
    "    ax1.legend(loc='upper left')\n",
    "\n",
    "    plt.setp(plt.gca().get_xticklabels(), rotation=45)\n",
    "\n",
    "\n",
    "    # Percentage\n",
    "    per_survival_list = (abs_survival_list / (abs_survival_list + abs_death_list)) * 100\n",
    "    per_death_list = (abs_death_list / (abs_survival_list + abs_death_list)) * 100\n",
    "\n",
    "    ax2.bar(ind, per_survival_list, width, label='Survival percentage', alpha=0.8)\n",
    "    ax2.bar(ind, per_death_list, width, color='#d62728', label='Death percentage', alpha=0.8, bottom=per_survival_list)\n",
    "\n",
    "    plt.sca(ax2)\n",
    "    plt.xticks(ind, x_ticks)\n",
    "\n",
    "    ax2.set_title('Percentage ' + by_factor)\n",
    "    ax2.set_ylabel('Percentage')\n",
    "\n",
    "    plt.setp(plt.gca().get_xticklabels(), rotation=45)\n",
    "\n",
    "    return plt.show()"
   ]
  },
  {
   "cell_type": "code",
   "execution_count": 28,
   "id": "1064ca02",
   "metadata": {},
   "outputs": [
    {
     "data": {
      "image/png": "[encoded data removed]",
      "text/plain": [
       "<Figure size 720x360 with 2 Axes>"
      ]
     },
     "metadata": {
      "needs_background": "light"
     },
     "output_type": "display_data"
    }
   ],
   "source": [
    "gen_plot([class1_survival_count, class2_survival_count, class3_survival_count],\n",
    "         [class1_death_count, class2_death_count, class3_death_count],\n",
    "         'by ticket class',\n",
    "         ['First class', 'Second class', 'Third class'])"
   ]
  },
  {
   "cell_type": "markdown",
   "id": "8413232f",
   "metadata": {},
   "source": [
    "## Survival Chance based on who travelled alone or in group"
   ]
  },
  {
   "cell_type": "markdown",
   "id": "57ba337a",
   "metadata": {},
   "source": [
    "1) For SibSp"
   ]
  },
  {
   "cell_type": "code",
   "execution_count": 29,
   "id": "03f58b16",
   "metadata": {},
   "outputs": [
    {
     "data": {
      "image/png": "[encoded data removed]",
      "text/plain": [
       "<Figure size 432x432 with 1 Axes>"
      ]
     },
     "metadata": {
      "needs_background": "light"
     },
     "output_type": "display_data"
    }
   ],
   "source": [
    "plt.figure(figsize=(6,6))\n",
    "sns.countplot(x='Survived', hue='SibSp', data=df1, palette='rainbow');"
   ]
  },
  {
   "cell_type": "markdown",
   "id": "f7b1d498",
   "metadata": {},
   "source": [
    "From the above graph it can be understood that people who travelled alone had less survival chance than those who travelled in groups with their siblings and spouse."
   ]
  },
  {
   "cell_type": "markdown",
   "id": "10508a5c",
   "metadata": {},
   "source": [
    "2) For Parch"
   ]
  },
  {
   "cell_type": "code",
   "execution_count": 30,
   "id": "129905e9",
   "metadata": {},
   "outputs": [
    {
     "data": {
      "image/png": "[encoded data removed]",
      "text/plain": [
       "<Figure size 432x432 with 1 Axes>"
      ]
     },
     "metadata": {
      "needs_background": "light"
     },
     "output_type": "display_data"
    }
   ],
   "source": [
    "plt.figure(figsize=(6,6))\n",
    "sns.countplot(x='Survived', hue='Parch', data=df1, palette='rainbow');"
   ]
  },
  {
   "cell_type": "markdown",
   "id": "f5057f3d",
   "metadata": {},
   "source": [
    "From the above graph it can be understood that people who travelled alone had less survival chance than those who travelled in groups with their parent and children."
   ]
  },
  {
   "cell_type": "markdown",
   "id": "b42ea1ca",
   "metadata": {},
   "source": [
    "# "
   ]
  },
  {
   "cell_type": "markdown",
   "id": "dcea979e",
   "metadata": {},
   "source": [
    "So,from above two graphs of Sibsp wrt survived & Parch wrt Survived it is depicted that people who travelled alone had less survival chance than those who travelled in groups."
   ]
  },
  {
   "cell_type": "markdown",
   "id": "70d0231e",
   "metadata": {},
   "source": [
    "### Survival Rate based on Fare"
   ]
  },
  {
   "cell_type": "code",
   "execution_count": 31,
   "id": "a206ce75",
   "metadata": {},
   "outputs": [
    {
     "data": {
      "image/png": "[encoded data removed]",
      "text/plain": [
       "<Figure size 432x288 with 1 Axes>"
      ]
     },
     "metadata": {
      "needs_background": "light"
     },
     "output_type": "display_data"
    }
   ],
   "source": [
    "df1[\"FareClass\"] = pd.qcut(df1['Fare'], 10)\n",
    "\n",
    "# mean survival rates for all fare classes\n",
    "fare_survival = df1[['FareClass', 'Survived']].groupby(['FareClass']).mean()\n",
    "\n",
    "ind = np.arange(len(fare_survival)) \n",
    "width = 0.8\n",
    "fig, ax = plt.subplots()\n",
    "\n",
    "ax.bar(ind, fare_survival['Survived'], width, color='green')\n",
    "\n",
    "ax.set(xlabel='Fare class', xticks=(ind + width/2), xticklabels=np.arange(1, 11), ylabel='Survival rate', \n",
    "       title='Survival by fare class')\n",
    "\n",
    "plt.show()"
   ]
  },
  {
   "cell_type": "markdown",
   "id": "4fc4aaa6",
   "metadata": {},
   "source": [
    "It can be seen that passengers with higher fares (which corresponds with a higher class) had better chances of survival."
   ]
  },
  {
   "cell_type": "code",
   "execution_count": null,
   "id": "f592af25",
   "metadata": {},
   "outputs": [],
   "source": []
  }
 ],
 "metadata": {
  "kernelspec": {
   "display_name": "Python 3",
   "language": "python",
   "name": "python3"
  },
  "language_info": {
   "codemirror_mode": {
    "name": "ipython",
    "version": 3
   },
   "file_extension": ".py",
   "mimetype": "text/x-python",
   "name": "python",
   "nbconvert_exporter": "python",
   "pygments_lexer": "ipython3",
   "version": "3.8.8"
  }
 },
 "nbformat": 4,
 "nbformat_minor": 5
}
