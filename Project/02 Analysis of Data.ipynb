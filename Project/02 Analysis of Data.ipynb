{
 "cells": [
  {
   "cell_type": "code",
   "execution_count": 3,
   "id": "b0b318ef",
   "metadata": {},
   "outputs": [],
   "source": [
    "import pandas as pd\n",
    "import numpy as np\n",
    "import matplotlib.pyplot as plt"
   ]
  },
  {
   "cell_type": "markdown",
   "id": "44a36c3a",
   "metadata": {},
   "source": [
    "### Read CSV File"
   ]
  },
  {
   "cell_type": "code",
   "execution_count": 4,
   "id": "92fb19b4",
   "metadata": {},
   "outputs": [
    {
     "name": "stderr",
     "output_type": "stream",
     "text": [
      "C:\\Users\\ANISHA\\anaconda3\\lib\\site-packages\\IPython\\core\\interactiveshell.py:3165: DtypeWarning: Columns (3) have mixed types.Specify dtype option on import or set low_memory=False.\n",
      "  has_raised = await self.run_ast_nodes(code_ast.body, cell_name,\n"
     ]
    },
    {
     "data": {
      "text/html": [
       "<div>\n",
       "<style scoped>\n",
       "    .dataframe tbody tr th:only-of-type {\n",
       "        vertical-align: middle;\n",
       "    }\n",
       "\n",
       "    .dataframe tbody tr th {\n",
       "        vertical-align: top;\n",
       "    }\n",
       "\n",
       "    .dataframe thead th {\n",
       "        text-align: right;\n",
       "    }\n",
       "</style>\n",
       "<table border=\"1\" class=\"dataframe\">\n",
       "  <thead>\n",
       "    <tr style=\"text-align: right;\">\n",
       "      <th></th>\n",
       "      <th>Unnamed: 0</th>\n",
       "      <th>Num Cases</th>\n",
       "      <th>Date Announced</th>\n",
       "      <th>Age Bracket</th>\n",
       "      <th>Gender</th>\n",
       "      <th>Detected District</th>\n",
       "      <th>Detected State</th>\n",
       "      <th>Current Status</th>\n",
       "      <th>Day</th>\n",
       "      <th>Month</th>\n",
       "      <th>Year</th>\n",
       "    </tr>\n",
       "  </thead>\n",
       "  <tbody>\n",
       "    <tr>\n",
       "      <th>0</th>\n",
       "      <td>0</td>\n",
       "      <td>1.0</td>\n",
       "      <td>30/01/2020</td>\n",
       "      <td>20</td>\n",
       "      <td>F</td>\n",
       "      <td>Thrissur</td>\n",
       "      <td>Kerala</td>\n",
       "      <td>Recovered</td>\n",
       "      <td>30.0</td>\n",
       "      <td>1.0</td>\n",
       "      <td>2020.0</td>\n",
       "    </tr>\n",
       "    <tr>\n",
       "      <th>1</th>\n",
       "      <td>1</td>\n",
       "      <td>1.0</td>\n",
       "      <td>02/02/2020</td>\n",
       "      <td>NaN</td>\n",
       "      <td>NaN</td>\n",
       "      <td>Alappuzha</td>\n",
       "      <td>Kerala</td>\n",
       "      <td>Recovered</td>\n",
       "      <td>2.0</td>\n",
       "      <td>2.0</td>\n",
       "      <td>2020.0</td>\n",
       "    </tr>\n",
       "    <tr>\n",
       "      <th>2</th>\n",
       "      <td>2</td>\n",
       "      <td>1.0</td>\n",
       "      <td>03/02/2020</td>\n",
       "      <td>NaN</td>\n",
       "      <td>NaN</td>\n",
       "      <td>Kasaragod</td>\n",
       "      <td>Kerala</td>\n",
       "      <td>Recovered</td>\n",
       "      <td>3.0</td>\n",
       "      <td>2.0</td>\n",
       "      <td>2020.0</td>\n",
       "    </tr>\n",
       "    <tr>\n",
       "      <th>3</th>\n",
       "      <td>3</td>\n",
       "      <td>1.0</td>\n",
       "      <td>02/03/2020</td>\n",
       "      <td>45</td>\n",
       "      <td>M</td>\n",
       "      <td>East Delhi</td>\n",
       "      <td>Delhi</td>\n",
       "      <td>Recovered</td>\n",
       "      <td>2.0</td>\n",
       "      <td>3.0</td>\n",
       "      <td>2020.0</td>\n",
       "    </tr>\n",
       "    <tr>\n",
       "      <th>4</th>\n",
       "      <td>4</td>\n",
       "      <td>1.0</td>\n",
       "      <td>02/03/2020</td>\n",
       "      <td>24</td>\n",
       "      <td>M</td>\n",
       "      <td>Hyderabad</td>\n",
       "      <td>Telangana</td>\n",
       "      <td>Recovered</td>\n",
       "      <td>2.0</td>\n",
       "      <td>3.0</td>\n",
       "      <td>2020.0</td>\n",
       "    </tr>\n",
       "    <tr>\n",
       "      <th>...</th>\n",
       "      <td>...</td>\n",
       "      <td>...</td>\n",
       "      <td>...</td>\n",
       "      <td>...</td>\n",
       "      <td>...</td>\n",
       "      <td>...</td>\n",
       "      <td>...</td>\n",
       "      <td>...</td>\n",
       "      <td>...</td>\n",
       "      <td>...</td>\n",
       "      <td>...</td>\n",
       "    </tr>\n",
       "    <tr>\n",
       "      <th>822051</th>\n",
       "      <td>16224</td>\n",
       "      <td>NaN</td>\n",
       "      <td>29/09/2021</td>\n",
       "      <td>NaN</td>\n",
       "      <td>NaN</td>\n",
       "      <td>NaN</td>\n",
       "      <td>NaN</td>\n",
       "      <td>NaN</td>\n",
       "      <td>29.0</td>\n",
       "      <td>9.0</td>\n",
       "      <td>2021.0</td>\n",
       "    </tr>\n",
       "    <tr>\n",
       "      <th>822052</th>\n",
       "      <td>16225</td>\n",
       "      <td>NaN</td>\n",
       "      <td>29/09/2021</td>\n",
       "      <td>NaN</td>\n",
       "      <td>NaN</td>\n",
       "      <td>NaN</td>\n",
       "      <td>NaN</td>\n",
       "      <td>NaN</td>\n",
       "      <td>29.0</td>\n",
       "      <td>9.0</td>\n",
       "      <td>2021.0</td>\n",
       "    </tr>\n",
       "    <tr>\n",
       "      <th>822053</th>\n",
       "      <td>16226</td>\n",
       "      <td>NaN</td>\n",
       "      <td>29/09/2021</td>\n",
       "      <td>NaN</td>\n",
       "      <td>NaN</td>\n",
       "      <td>NaN</td>\n",
       "      <td>NaN</td>\n",
       "      <td>NaN</td>\n",
       "      <td>29.0</td>\n",
       "      <td>9.0</td>\n",
       "      <td>2021.0</td>\n",
       "    </tr>\n",
       "    <tr>\n",
       "      <th>822054</th>\n",
       "      <td>16227</td>\n",
       "      <td>NaN</td>\n",
       "      <td>29/09/2021</td>\n",
       "      <td>NaN</td>\n",
       "      <td>NaN</td>\n",
       "      <td>NaN</td>\n",
       "      <td>NaN</td>\n",
       "      <td>NaN</td>\n",
       "      <td>29.0</td>\n",
       "      <td>9.0</td>\n",
       "      <td>2021.0</td>\n",
       "    </tr>\n",
       "    <tr>\n",
       "      <th>822055</th>\n",
       "      <td>16228</td>\n",
       "      <td>NaN</td>\n",
       "      <td>29/09/2021</td>\n",
       "      <td>NaN</td>\n",
       "      <td>NaN</td>\n",
       "      <td>NaN</td>\n",
       "      <td>NaN</td>\n",
       "      <td>NaN</td>\n",
       "      <td>29.0</td>\n",
       "      <td>9.0</td>\n",
       "      <td>2021.0</td>\n",
       "    </tr>\n",
       "  </tbody>\n",
       "</table>\n",
       "<p>822056 rows × 11 columns</p>\n",
       "</div>"
      ],
      "text/plain": [
       "        Unnamed: 0  Num Cases Date Announced Age Bracket Gender  \\\n",
       "0                0        1.0     30/01/2020          20      F   \n",
       "1                1        1.0     02/02/2020         NaN    NaN   \n",
       "2                2        1.0     03/02/2020         NaN    NaN   \n",
       "3                3        1.0     02/03/2020          45      M   \n",
       "4                4        1.0     02/03/2020          24      M   \n",
       "...            ...        ...            ...         ...    ...   \n",
       "822051       16224        NaN     29/09/2021         NaN    NaN   \n",
       "822052       16225        NaN     29/09/2021         NaN    NaN   \n",
       "822053       16226        NaN     29/09/2021         NaN    NaN   \n",
       "822054       16227        NaN     29/09/2021         NaN    NaN   \n",
       "822055       16228        NaN     29/09/2021         NaN    NaN   \n",
       "\n",
       "       Detected District Detected State Current Status   Day  Month    Year  \n",
       "0               Thrissur         Kerala      Recovered  30.0    1.0  2020.0  \n",
       "1              Alappuzha         Kerala      Recovered   2.0    2.0  2020.0  \n",
       "2              Kasaragod         Kerala      Recovered   3.0    2.0  2020.0  \n",
       "3             East Delhi          Delhi      Recovered   2.0    3.0  2020.0  \n",
       "4              Hyderabad      Telangana      Recovered   2.0    3.0  2020.0  \n",
       "...                  ...            ...            ...   ...    ...     ...  \n",
       "822051               NaN            NaN            NaN  29.0    9.0  2021.0  \n",
       "822052               NaN            NaN            NaN  29.0    9.0  2021.0  \n",
       "822053               NaN            NaN            NaN  29.0    9.0  2021.0  \n",
       "822054               NaN            NaN            NaN  29.0    9.0  2021.0  \n",
       "822055               NaN            NaN            NaN  29.0    9.0  2021.0  \n",
       "\n",
       "[822056 rows x 11 columns]"
      ]
     },
     "execution_count": 4,
     "metadata": {},
     "output_type": "execute_result"
    }
   ],
   "source": [
    "df = pd.read_csv('Covid19India.csv')\n",
    "df"
   ]
  },
  {
   "cell_type": "code",
   "execution_count": 5,
   "id": "c331620f",
   "metadata": {},
   "outputs": [
    {
     "data": {
      "text/html": [
       "<div>\n",
       "<style scoped>\n",
       "    .dataframe tbody tr th:only-of-type {\n",
       "        vertical-align: middle;\n",
       "    }\n",
       "\n",
       "    .dataframe tbody tr th {\n",
       "        vertical-align: top;\n",
       "    }\n",
       "\n",
       "    .dataframe thead th {\n",
       "        text-align: right;\n",
       "    }\n",
       "</style>\n",
       "<table border=\"1\" class=\"dataframe\">\n",
       "  <thead>\n",
       "    <tr style=\"text-align: right;\">\n",
       "      <th></th>\n",
       "      <th>Num Cases</th>\n",
       "      <th>Date Announced</th>\n",
       "      <th>Age Bracket</th>\n",
       "      <th>Gender</th>\n",
       "      <th>Detected District</th>\n",
       "      <th>Detected State</th>\n",
       "      <th>Current Status</th>\n",
       "      <th>Day</th>\n",
       "      <th>Month</th>\n",
       "      <th>Year</th>\n",
       "    </tr>\n",
       "  </thead>\n",
       "  <tbody>\n",
       "    <tr>\n",
       "      <th>0</th>\n",
       "      <td>1.0</td>\n",
       "      <td>30/01/2020</td>\n",
       "      <td>20</td>\n",
       "      <td>F</td>\n",
       "      <td>Thrissur</td>\n",
       "      <td>Kerala</td>\n",
       "      <td>Recovered</td>\n",
       "      <td>30.0</td>\n",
       "      <td>1.0</td>\n",
       "      <td>2020.0</td>\n",
       "    </tr>\n",
       "    <tr>\n",
       "      <th>1</th>\n",
       "      <td>1.0</td>\n",
       "      <td>02/02/2020</td>\n",
       "      <td>NaN</td>\n",
       "      <td>NaN</td>\n",
       "      <td>Alappuzha</td>\n",
       "      <td>Kerala</td>\n",
       "      <td>Recovered</td>\n",
       "      <td>2.0</td>\n",
       "      <td>2.0</td>\n",
       "      <td>2020.0</td>\n",
       "    </tr>\n",
       "    <tr>\n",
       "      <th>2</th>\n",
       "      <td>1.0</td>\n",
       "      <td>03/02/2020</td>\n",
       "      <td>NaN</td>\n",
       "      <td>NaN</td>\n",
       "      <td>Kasaragod</td>\n",
       "      <td>Kerala</td>\n",
       "      <td>Recovered</td>\n",
       "      <td>3.0</td>\n",
       "      <td>2.0</td>\n",
       "      <td>2020.0</td>\n",
       "    </tr>\n",
       "    <tr>\n",
       "      <th>3</th>\n",
       "      <td>1.0</td>\n",
       "      <td>02/03/2020</td>\n",
       "      <td>45</td>\n",
       "      <td>M</td>\n",
       "      <td>East Delhi</td>\n",
       "      <td>Delhi</td>\n",
       "      <td>Recovered</td>\n",
       "      <td>2.0</td>\n",
       "      <td>3.0</td>\n",
       "      <td>2020.0</td>\n",
       "    </tr>\n",
       "    <tr>\n",
       "      <th>4</th>\n",
       "      <td>1.0</td>\n",
       "      <td>02/03/2020</td>\n",
       "      <td>24</td>\n",
       "      <td>M</td>\n",
       "      <td>Hyderabad</td>\n",
       "      <td>Telangana</td>\n",
       "      <td>Recovered</td>\n",
       "      <td>2.0</td>\n",
       "      <td>3.0</td>\n",
       "      <td>2020.0</td>\n",
       "    </tr>\n",
       "    <tr>\n",
       "      <th>...</th>\n",
       "      <td>...</td>\n",
       "      <td>...</td>\n",
       "      <td>...</td>\n",
       "      <td>...</td>\n",
       "      <td>...</td>\n",
       "      <td>...</td>\n",
       "      <td>...</td>\n",
       "      <td>...</td>\n",
       "      <td>...</td>\n",
       "      <td>...</td>\n",
       "    </tr>\n",
       "    <tr>\n",
       "      <th>822051</th>\n",
       "      <td>NaN</td>\n",
       "      <td>29/09/2021</td>\n",
       "      <td>NaN</td>\n",
       "      <td>NaN</td>\n",
       "      <td>NaN</td>\n",
       "      <td>NaN</td>\n",
       "      <td>NaN</td>\n",
       "      <td>29.0</td>\n",
       "      <td>9.0</td>\n",
       "      <td>2021.0</td>\n",
       "    </tr>\n",
       "    <tr>\n",
       "      <th>822052</th>\n",
       "      <td>NaN</td>\n",
       "      <td>29/09/2021</td>\n",
       "      <td>NaN</td>\n",
       "      <td>NaN</td>\n",
       "      <td>NaN</td>\n",
       "      <td>NaN</td>\n",
       "      <td>NaN</td>\n",
       "      <td>29.0</td>\n",
       "      <td>9.0</td>\n",
       "      <td>2021.0</td>\n",
       "    </tr>\n",
       "    <tr>\n",
       "      <th>822053</th>\n",
       "      <td>NaN</td>\n",
       "      <td>29/09/2021</td>\n",
       "      <td>NaN</td>\n",
       "      <td>NaN</td>\n",
       "      <td>NaN</td>\n",
       "      <td>NaN</td>\n",
       "      <td>NaN</td>\n",
       "      <td>29.0</td>\n",
       "      <td>9.0</td>\n",
       "      <td>2021.0</td>\n",
       "    </tr>\n",
       "    <tr>\n",
       "      <th>822054</th>\n",
       "      <td>NaN</td>\n",
       "      <td>29/09/2021</td>\n",
       "      <td>NaN</td>\n",
       "      <td>NaN</td>\n",
       "      <td>NaN</td>\n",
       "      <td>NaN</td>\n",
       "      <td>NaN</td>\n",
       "      <td>29.0</td>\n",
       "      <td>9.0</td>\n",
       "      <td>2021.0</td>\n",
       "    </tr>\n",
       "    <tr>\n",
       "      <th>822055</th>\n",
       "      <td>NaN</td>\n",
       "      <td>29/09/2021</td>\n",
       "      <td>NaN</td>\n",
       "      <td>NaN</td>\n",
       "      <td>NaN</td>\n",
       "      <td>NaN</td>\n",
       "      <td>NaN</td>\n",
       "      <td>29.0</td>\n",
       "      <td>9.0</td>\n",
       "      <td>2021.0</td>\n",
       "    </tr>\n",
       "  </tbody>\n",
       "</table>\n",
       "<p>822056 rows × 10 columns</p>\n",
       "</div>"
      ],
      "text/plain": [
       "        Num Cases Date Announced Age Bracket Gender Detected District  \\\n",
       "0             1.0     30/01/2020          20      F          Thrissur   \n",
       "1             1.0     02/02/2020         NaN    NaN         Alappuzha   \n",
       "2             1.0     03/02/2020         NaN    NaN         Kasaragod   \n",
       "3             1.0     02/03/2020          45      M        East Delhi   \n",
       "4             1.0     02/03/2020          24      M         Hyderabad   \n",
       "...           ...            ...         ...    ...               ...   \n",
       "822051        NaN     29/09/2021         NaN    NaN               NaN   \n",
       "822052        NaN     29/09/2021         NaN    NaN               NaN   \n",
       "822053        NaN     29/09/2021         NaN    NaN               NaN   \n",
       "822054        NaN     29/09/2021         NaN    NaN               NaN   \n",
       "822055        NaN     29/09/2021         NaN    NaN               NaN   \n",
       "\n",
       "       Detected State Current Status   Day  Month    Year  \n",
       "0              Kerala      Recovered  30.0    1.0  2020.0  \n",
       "1              Kerala      Recovered   2.0    2.0  2020.0  \n",
       "2              Kerala      Recovered   3.0    2.0  2020.0  \n",
       "3               Delhi      Recovered   2.0    3.0  2020.0  \n",
       "4           Telangana      Recovered   2.0    3.0  2020.0  \n",
       "...               ...            ...   ...    ...     ...  \n",
       "822051            NaN            NaN  29.0    9.0  2021.0  \n",
       "822052            NaN            NaN  29.0    9.0  2021.0  \n",
       "822053            NaN            NaN  29.0    9.0  2021.0  \n",
       "822054            NaN            NaN  29.0    9.0  2021.0  \n",
       "822055            NaN            NaN  29.0    9.0  2021.0  \n",
       "\n",
       "[822056 rows x 10 columns]"
      ]
     },
     "execution_count": 5,
     "metadata": {},
     "output_type": "execute_result"
    }
   ],
   "source": [
    "data = df.iloc[:,1:]\n",
    "data"
   ]
  },
  {
   "cell_type": "markdown",
   "id": "5420d27f",
   "metadata": {},
   "source": [
    "### Inspect the Data Frame"
   ]
  },
  {
   "cell_type": "code",
   "execution_count": 6,
   "id": "38beb67b",
   "metadata": {},
   "outputs": [
    {
     "name": "stdout",
     "output_type": "stream",
     "text": [
      "<class 'pandas.core.frame.DataFrame'>\n",
      "RangeIndex: 822056 entries, 0 to 822055\n",
      "Data columns (total 10 columns):\n",
      " #   Column             Non-Null Count   Dtype  \n",
      "---  ------             --------------   -----  \n",
      " 0   Num Cases          821587 non-null  float64\n",
      " 1   Date Announced     822049 non-null  object \n",
      " 2   Age Bracket        139184 non-null  object \n",
      " 3   Gender             141450 non-null  object \n",
      " 4   Detected District  805187 non-null  object \n",
      " 5   Detected State     821589 non-null  object \n",
      " 6   Current Status     821598 non-null  object \n",
      " 7   Day                822049 non-null  float64\n",
      " 8   Month              822049 non-null  float64\n",
      " 9   Year               822049 non-null  float64\n",
      "dtypes: float64(4), object(6)\n",
      "memory usage: 62.7+ MB\n"
     ]
    }
   ],
   "source": [
    "data.info()"
   ]
  },
  {
   "cell_type": "markdown",
   "id": "3269cc7d",
   "metadata": {},
   "source": [
    "### Inspect Null Values in each Column"
   ]
  },
  {
   "cell_type": "code",
   "execution_count": 8,
   "id": "a6165f58",
   "metadata": {},
   "outputs": [
    {
     "data": {
      "text/plain": [
       "Age Bracket          83.07\n",
       "Gender               82.79\n",
       "Detected District     2.05\n",
       "Num Cases             0.06\n",
       "Detected State        0.06\n",
       "Current Status        0.06\n",
       "Date Announced        0.00\n",
       "Day                   0.00\n",
       "Month                 0.00\n",
       "Year                  0.00\n",
       "dtype: float64"
      ]
     },
     "execution_count": 8,
     "metadata": {},
     "output_type": "execute_result"
    }
   ],
   "source": [
    "round(data.isnull().sum(axis=0).sort_values(ascending = False)/len(data)*100,2)"
   ]
  },
  {
   "cell_type": "markdown",
   "id": "c7ed35e4",
   "metadata": {},
   "source": [
    "### Inspect Null Values in each Row"
   ]
  },
  {
   "cell_type": "code",
   "execution_count": 16,
   "id": "69f3ae91",
   "metadata": {},
   "outputs": [
    {
     "data": {
      "text/plain": [
       "224898    10\n",
       "404952    10\n",
       "404953    10\n",
       "404954    10\n",
       "271479    10\n",
       "          ..\n",
       "144575     0\n",
       "144574     0\n",
       "144573     0\n",
       "144572     0\n",
       "0          0\n",
       "Length: 822056, dtype: int64"
      ]
     },
     "execution_count": 16,
     "metadata": {},
     "output_type": "execute_result"
    }
   ],
   "source": [
    "data.isnull().sum(axis=1).sort_values(ascending=False)"
   ]
  },
  {
   "cell_type": "markdown",
   "id": "fcc63405",
   "metadata": {},
   "source": [
    "### Total Covid19 Cases Month wise"
   ]
  },
  {
   "cell_type": "code",
   "execution_count": 17,
   "id": "45161444",
   "metadata": {},
   "outputs": [
    {
     "data": {
      "text/plain": [
       "Month\n",
       "1.0      472317.0\n",
       "2.0      353426.0\n",
       "3.0     1110091.0\n",
       "4.0     6969688.0\n",
       "5.0     9172468.0\n",
       "6.0     2632028.0\n",
       "7.0     2355236.0\n",
       "8.0     3146893.0\n",
       "9.0     3548972.0\n",
       "10.0    1873130.0\n",
       "11.0    1279860.0\n",
       "12.0     823056.0\n",
       "Name: Num Cases, dtype: float64"
      ]
     },
     "execution_count": 17,
     "metadata": {},
     "output_type": "execute_result"
    }
   ],
   "source": [
    "M=(data[data['Current Status']=='Hospitalized'].groupby('Month')['Num Cases'].sum())\n",
    "M"
   ]
  },
  {
   "cell_type": "code",
   "execution_count": 18,
   "id": "af6d49d5",
   "metadata": {},
   "outputs": [
    {
     "data": {
      "image/png": "[encoded data removed]",
      "text/plain": [
       "<Figure size 432x288 with 1 Axes>"
      ]
     },
     "metadata": {
      "needs_background": "light"
     },
     "output_type": "display_data"
    }
   ],
   "source": [
    "M.plot.bar()\n",
    "plt.show()"
   ]
  },
  {
   "cell_type": "markdown",
   "id": "5f2d68fc",
   "metadata": {},
   "source": [
    "### Total Male/Female Infected with Covid"
   ]
  },
  {
   "cell_type": "code",
   "execution_count": 19,
   "id": "193809b8",
   "metadata": {},
   "outputs": [
    {
     "data": {
      "text/plain": [
       "Gender\n",
       " M                1.0\n",
       "-                 1.0\n",
       "F             51486.0\n",
       "F                 6.0\n",
       "Fal               1.0\n",
       "Femal e           1.0\n",
       "M             93235.0\n",
       "M                 7.0\n",
       "M,                1.0\n",
       "Non-Binary       19.0\n",
       "gf                1.0\n",
       "Name: Num Cases, dtype: float64"
      ]
     },
     "execution_count": 19,
     "metadata": {},
     "output_type": "execute_result"
    }
   ],
   "source": [
    "data.groupby('Gender')['Num Cases'].sum()"
   ]
  },
  {
   "cell_type": "markdown",
   "id": "b9eb26fa",
   "metadata": {},
   "source": [
    "### Age Group thta was affected the most"
   ]
  },
  {
   "cell_type": "code",
   "execution_count": 20,
   "id": "528473ae",
   "metadata": {},
   "outputs": [
    {
     "data": {
      "text/plain": [
       "Age Bracket\n",
       "30.0    1925.0\n",
       "58.0    1861.0\n",
       "30      1789.0\n",
       "40.0    1723.0\n",
       "35      1675.0\n",
       "35.0    1641.0\n",
       "40      1623.0\n",
       "45.0    1599.0\n",
       "32.0    1551.0\n",
       "45      1546.0\n",
       "Name: Num Cases, dtype: float64"
      ]
     },
     "execution_count": 20,
     "metadata": {},
     "output_type": "execute_result"
    }
   ],
   "source": [
    "M = data.groupby('Age Bracket')['Num Cases'].sum().sort_values(ascending=False).head(10)\n",
    "M"
   ]
  },
  {
   "cell_type": "code",
   "execution_count": 21,
   "id": "311475b5",
   "metadata": {},
   "outputs": [
    {
     "data": {
      "image/png": "[encoded data removed]",
      "text/plain": [
       "<Figure size 1080x360 with 1 Axes>"
      ]
     },
     "metadata": {
      "needs_background": "light"
     },
     "output_type": "display_data"
    }
   ],
   "source": [
    "M.plot.bar(figsize=(15,5))\n",
    "plt.show()"
   ]
  },
  {
   "cell_type": "markdown",
   "id": "09b04e99",
   "metadata": {},
   "source": [
    "### Check State wise Total Cases in India"
   ]
  },
  {
   "cell_type": "code",
   "execution_count": 22,
   "id": "86b00a60",
   "metadata": {},
   "outputs": [
    {
     "data": {
      "text/plain": [
       "Detected State\n",
       "Maharashtra                                 6547779.0\n",
       "Kerala                                      4664883.0\n",
       "Karnataka                                   2974995.0\n",
       "Tamil Nadu                                  2662170.0\n",
       "Andhra Pradesh                              2049312.0\n",
       "Uttar Pradesh                               1709785.0\n",
       "West Bengal                                 1567567.0\n",
       "Delhi                                       1438817.0\n",
       "Odisha                                      1025873.0\n",
       "Chhattisgarh                                1005287.0\n",
       "Rajasthan                                    954318.0\n",
       "Gujarat                                      825911.0\n",
       "Madhya Pradesh                               792515.0\n",
       "Haryana                                      770851.0\n",
       "Bihar                                        725947.0\n",
       "Telangana                                    665747.0\n",
       "Assam                                        601787.0\n",
       "Punjab                                       601576.0\n",
       "Jharkhand                                    348209.0\n",
       "Uttarakhand                                  343529.0\n",
       "Jammu and Kashmir                            329319.0\n",
       "Himachal Pradesh                             218896.0\n",
       "Goa                                          176318.0\n",
       "Puducherry                                   126308.0\n",
       "Manipur                                      120425.0\n",
       "Mizoram                                       91919.0\n",
       "Tripura                                       84102.0\n",
       "Meghalaya                                     81161.0\n",
       "Chandigarh                                    65224.0\n",
       "Arunachal Pradesh                             54572.0\n",
       "Sikkim                                        31412.0\n",
       "Nagaland                                      31219.0\n",
       "Ladakh                                        20788.0\n",
       "Dadra and Nagar Haveli and Daman and Diu      10673.0\n",
       "Lakshadweep                                   10361.0\n",
       "Andaman and Nicobar Islands                    7609.0\n",
       "State Unassigned                                  0.0\n",
       "Name: Num Cases, dtype: float64"
      ]
     },
     "execution_count": 22,
     "metadata": {},
     "output_type": "execute_result"
    }
   ],
   "source": [
    "M=data[data['Current Status']== 'Hospitalized'].groupby('Detected State')['Num Cases'].sum().sort_values(ascending=False)\n",
    "M"
   ]
  },
  {
   "cell_type": "code",
   "execution_count": 23,
   "id": "1e3c6fae",
   "metadata": {},
   "outputs": [
    {
     "data": {
      "image/png": "[encoded data removed]",
      "text/plain": [
       "<Figure size 1080x360 with 1 Axes>"
      ]
     },
     "metadata": {
      "needs_background": "light"
     },
     "output_type": "display_data"
    }
   ],
   "source": [
    "M.plot.bar(figsize=(15,5))\n",
    "plt.show()"
   ]
  },
  {
   "cell_type": "markdown",
   "id": "27ed01ae",
   "metadata": {},
   "source": [
    "### Number of Cases each day"
   ]
  },
  {
   "cell_type": "code",
   "execution_count": 27,
   "id": "a23f9b56",
   "metadata": {},
   "outputs": [
    {
     "data": {
      "text/html": [
       "<div>\n",
       "<style scoped>\n",
       "    .dataframe tbody tr th:only-of-type {\n",
       "        vertical-align: middle;\n",
       "    }\n",
       "\n",
       "    .dataframe tbody tr th {\n",
       "        vertical-align: top;\n",
       "    }\n",
       "\n",
       "    .dataframe thead th {\n",
       "        text-align: right;\n",
       "    }\n",
       "</style>\n",
       "<table border=\"1\" class=\"dataframe\">\n",
       "  <thead>\n",
       "    <tr style=\"text-align: right;\">\n",
       "      <th></th>\n",
       "      <th></th>\n",
       "      <th>Num Cases</th>\n",
       "    </tr>\n",
       "    <tr>\n",
       "      <th>Month</th>\n",
       "      <th>Day</th>\n",
       "      <th></th>\n",
       "    </tr>\n",
       "  </thead>\n",
       "  <tbody>\n",
       "    <tr>\n",
       "      <th rowspan=\"5\" valign=\"top\">1.0</th>\n",
       "      <th>1.0</th>\n",
       "      <td>20159.0</td>\n",
       "    </tr>\n",
       "    <tr>\n",
       "      <th>2.0</th>\n",
       "      <td>18144.0</td>\n",
       "    </tr>\n",
       "    <tr>\n",
       "      <th>3.0</th>\n",
       "      <td>16678.0</td>\n",
       "    </tr>\n",
       "    <tr>\n",
       "      <th>4.0</th>\n",
       "      <td>16278.0</td>\n",
       "    </tr>\n",
       "    <tr>\n",
       "      <th>5.0</th>\n",
       "      <td>17909.0</td>\n",
       "    </tr>\n",
       "    <tr>\n",
       "      <th>...</th>\n",
       "      <th>...</th>\n",
       "      <td>...</td>\n",
       "    </tr>\n",
       "    <tr>\n",
       "      <th rowspan=\"5\" valign=\"top\">12.0</th>\n",
       "      <th>27.0</th>\n",
       "      <td>20333.0</td>\n",
       "    </tr>\n",
       "    <tr>\n",
       "      <th>28.0</th>\n",
       "      <td>16072.0</td>\n",
       "    </tr>\n",
       "    <tr>\n",
       "      <th>29.0</th>\n",
       "      <td>20542.0</td>\n",
       "    </tr>\n",
       "    <tr>\n",
       "      <th>30.0</th>\n",
       "      <td>21945.0</td>\n",
       "    </tr>\n",
       "    <tr>\n",
       "      <th>31.0</th>\n",
       "      <td>19026.0</td>\n",
       "    </tr>\n",
       "  </tbody>\n",
       "</table>\n",
       "<p>365 rows × 1 columns</p>\n",
       "</div>"
      ],
      "text/plain": [
       "            Num Cases\n",
       "Month Day            \n",
       "1.0   1.0     20159.0\n",
       "      2.0     18144.0\n",
       "      3.0     16678.0\n",
       "      4.0     16278.0\n",
       "      5.0     17909.0\n",
       "...               ...\n",
       "12.0  27.0    20333.0\n",
       "      28.0    16072.0\n",
       "      29.0    20542.0\n",
       "      30.0    21945.0\n",
       "      31.0    19026.0\n",
       "\n",
       "[365 rows x 1 columns]"
      ]
     },
     "execution_count": 27,
     "metadata": {},
     "output_type": "execute_result"
    }
   ],
   "source": [
    "Day = data[data['Current Status']=='Hospitalized'].groupby(['Month', 'Day'])[['Num Cases']].sum()\n",
    "Day"
   ]
  },
  {
   "cell_type": "code",
   "execution_count": 28,
   "id": "e66431c8",
   "metadata": {},
   "outputs": [
    {
     "data": {
      "image/png": "[encoded data removed]",
      "text/plain": [
       "<Figure size 720x720 with 12 Axes>"
      ]
     },
     "metadata": {
      "needs_background": "light"
     },
     "output_type": "display_data"
    }
   ],
   "source": [
    "Day.unstack(level=0).plot(kind='bar', subplots=True, figsize=(10,10))\n",
    "plt.show()"
   ]
  },
  {
   "cell_type": "code",
   "execution_count": 29,
   "id": "f939921b",
   "metadata": {},
   "outputs": [
    {
     "data": {
      "text/plain": [
       "array(['Recovered', 'Hospitalized', 'Deceased', 'Migrated',\n",
       "       'Migrated_Other', nan, 'Migrated_other', 'hospitalized'],\n",
       "      dtype=object)"
      ]
     },
     "execution_count": 29,
     "metadata": {},
     "output_type": "execute_result"
    }
   ],
   "source": [
    "data['Current Status'].unique()"
   ]
  },
  {
   "cell_type": "code",
   "execution_count": 30,
   "id": "5e85987c",
   "metadata": {},
   "outputs": [
    {
     "data": {
      "text/plain": [
       "447238.0"
      ]
     },
     "execution_count": 30,
     "metadata": {},
     "output_type": "execute_result"
    }
   ],
   "source": [
    "data[data['Current Status']=='Deceased']['Num Cases'].sum()"
   ]
  },
  {
   "cell_type": "code",
   "execution_count": 31,
   "id": "bfc58bed",
   "metadata": {},
   "outputs": [
    {
     "data": {
      "text/plain": [
       "Detected State\n",
       "Maharashtra                                 138680.0\n",
       "Karnataka                                    37772.0\n",
       "Tamil Nadu                                   35527.0\n",
       "Delhi                                        25034.0\n",
       "Kerala                                       24964.0\n",
       "Uttar Pradesh                                22862.0\n",
       "West Bengal                                  18747.0\n",
       "Punjab                                       16493.0\n",
       "Andhra Pradesh                               14132.0\n",
       "Chhattisgarh                                 13564.0\n",
       "Madhya Pradesh                               10421.0\n",
       "Gujarat                                       9935.0\n",
       "Haryana                                       9871.0\n",
       "Bihar                                         9659.0\n",
       "Rajasthan                                     8914.0\n",
       "Odisha                                        8245.0\n",
       "Uttarakhand                                   7394.0\n",
       "Assam                                         5867.0\n",
       "Jharkhand                                     5132.0\n",
       "Jammu and Kashmir                             4417.0\n",
       "Telangana                                     3892.0\n",
       "Himachal Pradesh                              3658.0\n",
       "Goa                                           3312.0\n",
       "Manipur                                       1854.0\n",
       "Puducherry                                    1840.0\n",
       "Meghalaya                                     1399.0\n",
       "Chandigarh                                     819.0\n",
       "Tripura                                        809.0\n",
       "Nagaland                                       665.0\n",
       "Sikkim                                         387.0\n",
       "Mizoram                                        306.0\n",
       "Arunachal Pradesh                              276.0\n",
       "Ladakh                                         207.0\n",
       "Andaman and Nicobar Islands                    129.0\n",
       "Lakshadweep                                     51.0\n",
       "Dadra and Nagar Haveli and Daman and Diu         4.0\n",
       "Name: Num Cases, dtype: float64"
      ]
     },
     "execution_count": 31,
     "metadata": {},
     "output_type": "execute_result"
    }
   ],
   "source": [
    "data[data['Current Status']=='Deceased'].groupby('Detected State')['Num Cases'].sum().sort_values(ascending=False)"
   ]
  },
  {
   "cell_type": "code",
   "execution_count": null,
   "id": "9203b789",
   "metadata": {},
   "outputs": [],
   "source": []
  },
  {
   "cell_type": "code",
   "execution_count": null,
   "id": "9a024e62",
   "metadata": {},
   "outputs": [],
   "source": []
  },
  {
   "cell_type": "code",
   "execution_count": null,
   "id": "d773d21d",
   "metadata": {},
   "outputs": [],
   "source": []
  },
  {
   "cell_type": "code",
   "execution_count": null,
   "id": "7e160fe0",
   "metadata": {},
   "outputs": [],
   "source": []
  },
  {
   "cell_type": "code",
   "execution_count": null,
   "id": "bc1a2b6d",
   "metadata": {},
   "outputs": [],
   "source": []
  },
  {
   "cell_type": "code",
   "execution_count": null,
   "id": "52490fcb",
   "metadata": {},
   "outputs": [],
   "source": []
  }
 ],
 "metadata": {
  "kernelspec": {
   "display_name": "Python 3",
   "language": "python",
   "name": "python3"
  },
  "language_info": {
   "codemirror_mode": {
    "name": "ipython",
    "version": 3
   },
   "file_extension": ".py",
   "mimetype": "text/x-python",
   "name": "python",
   "nbconvert_exporter": "python",
   "pygments_lexer": "ipython3",
   "version": "3.8.8"
  }
 },
 "nbformat": 4,
 "nbformat_minor": 5
}
